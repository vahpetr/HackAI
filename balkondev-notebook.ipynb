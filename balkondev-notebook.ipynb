{
 "cells": [
  {
   "cell_type": "code",
   "execution_count": 1,
   "id": "8a6fb75a",
   "metadata": {},
   "outputs": [],
   "source": [
    "!pip3 install pandas --quiet\n",
    "!pip3 install statsmodels --quiet\n",
    "!pip3 install numpy --quiet\n",
    "!pip3 install matplotlib --quiet\n",
    "!pip3 install seaborn --quiet\n",
    "!pip3 install sklearn --quiet"
   ]
  },
  {
   "cell_type": "code",
   "execution_count": 2,
   "id": "ed36c84b",
   "metadata": {},
   "outputs": [],
   "source": [
    "import pandas as pd\n",
    "import numpy as np\n",
    "import seaborn as sns\n",
    "from matplotlib import pyplot as plt\n",
    "from statsmodels.tsa.seasonal import seasonal_decompose\n",
    "from sklearn.linear_model import SGDClassifier, LogisticRegression\n",
    "from sklearn.ensemble import GradientBoostingClassifier\n",
    "from sklearn.model_selection import cross_val_score, GridSearchCV\n",
    "from collections import defaultdict\n",
    "from sklearn.neighbors import KNeighborsClassifier\n",
    "from sklearn.preprocessing import OrdinalEncoder, LabelEncoder, MinMaxScaler, StandardScaler\n",
    "from sklearn.svm import SVC\n",
    "from sklearn.model_selection import TimeSeriesSplit\n",
    "from sklearn.metrics import roc_auc_score"
   ]
  },
  {
   "cell_type": "code",
   "execution_count": 3,
   "id": "542d42dc",
   "metadata": {},
   "outputs": [],
   "source": [
    "train_1 = pd.read_csv('train_1.csv', delimiter=';', dtype={'SUM_TRANS':'float'}, decimal=',', parse_dates=[2], low_memory=False)\n",
    "train_2 = pd.read_csv('train_2.csv', delimiter=';', dtype={'INCOME_MAIN_AMT':'float'}, decimal=',', low_memory=False)"
   ]
  },
  {
   "cell_type": "code",
   "execution_count": 4,
   "id": "64a536a2",
   "metadata": {},
   "outputs": [],
   "source": [
    "test_1 = pd.read_csv('test_1.csv', delimiter=';', dtype={'SUM_TRANS':'float'}, decimal=',', parse_dates=[2], low_memory=False)\n",
    "test_2 = pd.read_csv('test_2.csv', delimiter=';', dtype={'INCOME_MAIN_AMT':'float'}, decimal=',', low_memory=False)"
   ]
  },
  {
   "cell_type": "code",
   "execution_count": 5,
   "id": "ee032ce9",
   "metadata": {},
   "outputs": [],
   "source": [
    "train = train_1.drop(['PROD_TYPE', 'SUM_TRANS', 'LOCATION_NAME'], axis=1)"
   ]
  },
  {
   "cell_type": "code",
   "execution_count": 6,
   "id": "bf2f7d05",
   "metadata": {},
   "outputs": [],
   "source": [
    "train.set_index('TRANS_DTTM', inplace=True)"
   ]
  },
  {
   "cell_type": "markdown",
   "id": "0e62057b",
   "metadata": {},
   "source": [
    "# Выделение признаков"
   ]
  },
  {
   "cell_type": "code",
   "execution_count": 7,
   "id": "1e250fc7",
   "metadata": {},
   "outputs": [],
   "source": [
    "users = train['ID'].unique()\n",
    "\n",
    "extracted_features = pd.DataFrame(columns=['shift_1', 'shift_2', 'shift_3', 'rolling_3', 'dayofweek', 'month', 'mcc_code', 'id'])\n",
    "\n",
    "for user in users[:10]:\n",
    "    user_mcc_code = train.loc[train['ID'] == user, 'MCC_CODE'].unique()\n",
    "    for mcc_code in user_mcc_code:\n",
    "        temp_df = train.loc[((train['ID'] == user) & (train['MCC_CODE'] == mcc_code)), 'ID']\n",
    "        temp_df.sort_index(inplace=True)\n",
    "        \n",
    "        resampled_df = pd.DataFrame(temp_df.resample('1D').count())\n",
    "        \n",
    "        resampled_df['shift_1'] = resampled_df.shift(1, fill_value=0)\n",
    "        resampled_df['shift_2'] = resampled_df['ID'].shift(2, fill_value=0)\n",
    "        resampled_df['shift_3'] = resampled_df['ID'].shift(3, fill_value=0)\n",
    "        resampled_df['rolling_3'] = resampled_df['ID'].shift().rolling(3).mean()\n",
    "        resampled_df['dayofweek'] = resampled_df.index.dayofweek\n",
    "        resampled_df['month'] = resampled_df.index.month\n",
    "        resampled_df['mcc_code'] = np.array([mcc_code] * resampled_df.shape[0])\n",
    "        resampled_df['id'] = np.array([user] * resampled_df.shape[0])\n",
    "        \n",
    "        extracted_features = pd.concat([extracted_features, resampled_df], ignore_index=True)"
   ]
  },
  {
   "cell_type": "code",
   "execution_count": 8,
   "id": "b9c8e53d",
   "metadata": {},
   "outputs": [],
   "source": [
    "extracted_features = extracted_features.fillna(0)\n",
    "\n",
    "scaler = StandardScaler()\n",
    "scaled_data = scaler.fit_transform(extracted_features.drop(['id', 'mcc_code'], axis=1))"
   ]
  },
  {
   "cell_type": "code",
   "execution_count": 9,
   "id": "d5e0e03b",
   "metadata": {},
   "outputs": [],
   "source": [
    "scaled_extracted = pd.DataFrame(columns=['shift_1', 'shift_2', 'shift_3', 'rolling_3', 'dayofweek', 'month', 'amount'], data=scaled_data)\n",
    "scaled_extracted['user_id'] = extracted_features['id']"
   ]
  },
  {
   "cell_type": "code",
   "execution_count": 10,
   "id": "e8c289ca",
   "metadata": {},
   "outputs": [],
   "source": [
    "lbl_enc = LabelEncoder()\n",
    "scaled_extracted['labl_user_id'] = lbl_enc.fit_transform(scaled_extracted['user_id'])"
   ]
  },
  {
   "cell_type": "code",
   "execution_count": 11,
   "id": "8fdc31f1",
   "metadata": {},
   "outputs": [],
   "source": [
    "features = scaled_extracted.drop('user_id', axis=1)\n",
    "targets = extracted_features['mcc_code']"
   ]
  },
  {
   "cell_type": "markdown",
   "id": "1a3f4371",
   "metadata": {},
   "source": [
    "# Обучение классификатора"
   ]
  },
  {
   "cell_type": "code",
   "execution_count": 12,
   "id": "450d089b",
   "metadata": {},
   "outputs": [
    {
     "name": "stderr",
     "output_type": "stream",
     "text": [
      "/opt/conda/lib/python3.9/site-packages/sklearn/model_selection/_split.py:676: UserWarning: The least populated class in y has only 1 members, which is less than n_splits=3.\n",
      "  warnings.warn(\n"
     ]
    },
    {
     "name": "stdout",
     "output_type": "stream",
     "text": [
      "CPU times: user 22.8 ms, sys: 136 ms, total: 159 ms\n",
      "Wall time: 4min 31s\n"
     ]
    }
   ],
   "source": [
    "%%time\n",
    "tsv = TimeSeriesSplit()\n",
    "grb = GradientBoostingClassifier(n_estimators=500, max_depth=3, learning_rate=.8)\n",
    "scores = cross_val_score(grb, features, targets, cv=3, n_jobs=-1)"
   ]
  },
  {
   "cell_type": "code",
   "execution_count": 13,
   "id": "073e0902",
   "metadata": {},
   "outputs": [
    {
     "data": {
      "text/plain": [
       "GradientBoostingClassifier(learning_rate=0.8, n_estimators=600)"
      ]
     },
     "execution_count": 13,
     "metadata": {},
     "output_type": "execute_result"
    }
   ],
   "source": [
    "grb = GradientBoostingClassifier(n_estimators=600, max_depth=3, learning_rate=.8)\n",
    "grb.fit(features, targets)"
   ]
  },
  {
   "cell_type": "code",
   "execution_count": 22,
   "id": "957fb4b8",
   "metadata": {},
   "outputs": [
    {
     "data": {
      "text/plain": [
       "GradientBoostingClassifier(learning_rate=0.8, n_estimators=600)"
      ]
     },
     "execution_count": 22,
     "metadata": {},
     "output_type": "execute_result"
    }
   ],
   "source": [
    "grb"
   ]
  },
  {
   "cell_type": "markdown",
   "id": "c40aca0c",
   "metadata": {},
   "source": [
    "# Подбор релевантной корзины клиенту"
   ]
  },
  {
   "cell_type": "code",
   "execution_count": 14,
   "id": "11fe8e68",
   "metadata": {},
   "outputs": [],
   "source": [
    "test = test_1.drop(['PROD_TYPE', 'SUM_TRANS', 'LOCATION_NAME'], axis=1)\n",
    "test.set_index('TRANS_DTTM', inplace=True)"
   ]
  },
  {
   "cell_type": "code",
   "execution_count": 15,
   "id": "9c68635c",
   "metadata": {},
   "outputs": [],
   "source": [
    "users = train['ID'].unique()\n",
    "\n",
    "extracted_features = pd.DataFrame(columns=['shift_1', 'shift_2', 'shift_3', 'rolling_3', 'dayofweek', 'month', 'mcc_code', 'id'])\n",
    "\n",
    "user = 500000002152261401\n",
    "\n",
    "user_mcc_code = test.loc[test['ID'] == user, 'MCC_CODE'].unique()\n",
    "for mcc_code in user_mcc_code:\n",
    "    temp_df = test.loc[((test['ID'] == user) & (test['MCC_CODE'] == mcc_code)), 'ID']\n",
    "    temp_df.sort_index(inplace=True)\n",
    "\n",
    "    resampled_df = pd.DataFrame(temp_df.resample('1D').count())\n",
    "\n",
    "    resampled_df['shift_1'] = resampled_df.shift(1, fill_value=0)\n",
    "    resampled_df['shift_2'] = resampled_df['ID'].shift(2, fill_value=0)\n",
    "    resampled_df['shift_3'] = resampled_df['ID'].shift(3, fill_value=0)\n",
    "    resampled_df['rolling_3'] = resampled_df['ID'].shift().rolling(3).mean()\n",
    "    resampled_df['dayofweek'] = resampled_df.index.dayofweek\n",
    "    resampled_df['month'] = resampled_df.index.month\n",
    "    resampled_df['mcc_code'] = np.array([mcc_code] * resampled_df.shape[0])\n",
    "    resampled_df['id'] = np.array([user] * resampled_df.shape[0])\n",
    "\n",
    "    extracted_features = pd.concat([extracted_features, resampled_df], ignore_index=True)"
   ]
  },
  {
   "cell_type": "code",
   "execution_count": 16,
   "id": "b8bae00d",
   "metadata": {},
   "outputs": [],
   "source": [
    "extracted_features = extracted_features.fillna(0)\n",
    "\n",
    "scaled_data = scaler.fit_transform(extracted_features.drop(['id', 'mcc_code'], axis=1))"
   ]
  },
  {
   "cell_type": "code",
   "execution_count": 17,
   "id": "792d1073",
   "metadata": {},
   "outputs": [],
   "source": [
    "scaled_extracted = pd.DataFrame(columns=['shift_1', 'shift_2', 'shift_3', 'rolling_3', 'dayofweek', 'month', 'amount'], data=scaled_data)\n",
    "scaled_extracted['user_id'] = extracted_features['id']"
   ]
  },
  {
   "cell_type": "code",
   "execution_count": 26,
   "id": "171bd71e",
   "metadata": {},
   "outputs": [],
   "source": [
    "scaled_extracted['labl_user_id'] = lbl_enc.fit_transform(scaled_extracted['user_id'])"
   ]
  },
  {
   "cell_type": "code",
   "execution_count": 27,
   "id": "a4bc7e59",
   "metadata": {},
   "outputs": [],
   "source": [
    "features = scaled_extracted.drop('user_id', axis=1)\n",
    "targets = extracted_features['mcc_code']"
   ]
  },
  {
   "cell_type": "code",
   "execution_count": 28,
   "id": "32c633a5",
   "metadata": {},
   "outputs": [],
   "source": [
    "user_predicts = grb.predict(features)"
   ]
  },
  {
   "cell_type": "markdown",
   "id": "c2174ae3",
   "metadata": {},
   "source": [
    "# Определение расстояния до ближайшего офлайн mcc"
   ]
  },
  {
   "cell_type": "code",
   "execution_count": 29,
   "id": "522323ea",
   "metadata": {},
   "outputs": [],
   "source": [
    "def gen_coordinate(train):\n",
    "    return np.random.randint(0, 1023, size=(train.shape[0], 1))"
   ]
  },
  {
   "cell_type": "code",
   "execution_count": 30,
   "id": "fc1c334b",
   "metadata": {},
   "outputs": [],
   "source": [
    "#условные координаты оффлайн mcc\n",
    "train_1['coordinates_x'] = gen_coordinate(train_1)\n",
    "train_1['coordinates_y'] = gen_coordinate(train_1)\n",
    "train_1['distance'] = 0\n",
    "\n",
    "user_vector = [123, 100] #условный вектор координат юзера\n",
    "train_1['euclidean_distance'] = np.sqrt(\n",
    "    (train_1['coordinates_x'] - user_vector[0])**2 \n",
    "    + (train_1['coordinates_y'] - user_vector[1])**2\n",
    ")"
   ]
  },
  {
   "cell_type": "code",
   "execution_count": 31,
   "id": "6df64641",
   "metadata": {},
   "outputs": [],
   "source": [
    "#условные координаты оффлайн mcc\n",
    "test_1['coordinates_x'] = gen_coordinate(test_1)\n",
    "test_1['coordinates_y'] = gen_coordinate(test_1)\n",
    "test_1['distance'] = 0\n",
    "\n",
    "user_vector = [123, 100] #условный вектор координат юзера\n",
    "test_1['euclidean_distance'] = np.sqrt(\n",
    "    (test_1['coordinates_x'] - user_vector[0])**2 \n",
    "    + (test_1['coordinates_y'] - user_vector[1])**2\n",
    ")"
   ]
  },
  {
   "cell_type": "code",
   "execution_count": 34,
   "id": "d580e950",
   "metadata": {},
   "outputs": [],
   "source": [
    "def get_nearest_mcc(data, user_id, recommendations, less_distance=1024):\n",
    "    return data.loc[\n",
    "        (data['ID'] == user_id) \n",
    "        & (data['euclidean_distance'] < less_distance) \n",
    "        & (data['MCC_CODE'].isin(recommendations))\n",
    "    ]"
   ]
  },
  {
   "cell_type": "code",
   "execution_count": 35,
   "id": "77922649",
   "metadata": {},
   "outputs": [
    {
     "data": {
      "text/html": [
       "<div>\n",
       "<style scoped>\n",
       "    .dataframe tbody tr th:only-of-type {\n",
       "        vertical-align: middle;\n",
       "    }\n",
       "\n",
       "    .dataframe tbody tr th {\n",
       "        vertical-align: top;\n",
       "    }\n",
       "\n",
       "    .dataframe thead th {\n",
       "        text-align: right;\n",
       "    }\n",
       "</style>\n",
       "<table border=\"1\" class=\"dataframe\">\n",
       "  <thead>\n",
       "    <tr style=\"text-align: right;\">\n",
       "      <th></th>\n",
       "      <th>ID</th>\n",
       "      <th>PROD_TYPE</th>\n",
       "      <th>TRANS_DTTM</th>\n",
       "      <th>MCC_CODE</th>\n",
       "      <th>SUM_TRANS</th>\n",
       "      <th>LOCATION_NAME</th>\n",
       "      <th>coordinates_x</th>\n",
       "      <th>coordinates_y</th>\n",
       "      <th>distance</th>\n",
       "      <th>euclidean_distance</th>\n",
       "    </tr>\n",
       "  </thead>\n",
       "  <tbody>\n",
       "    <tr>\n",
       "      <th>417140</th>\n",
       "      <td>500000002152261401</td>\n",
       "      <td>2</td>\n",
       "      <td>2021-09-29 13:59:03</td>\n",
       "      <td>5411</td>\n",
       "      <td>651.82</td>\n",
       "      <td>MONETKA\\11 YUNOSTI STR\\MEZHDURECHENS\\652877   ...</td>\n",
       "      <td>748</td>\n",
       "      <td>99</td>\n",
       "      <td>0</td>\n",
       "      <td>625.000800</td>\n",
       "    </tr>\n",
       "    <tr>\n",
       "      <th>524349</th>\n",
       "      <td>500000002152261401</td>\n",
       "      <td>2</td>\n",
       "      <td>2021-08-21 06:38:06</td>\n",
       "      <td>5411</td>\n",
       "      <td>714.64</td>\n",
       "      <td>NaN</td>\n",
       "      <td>501</td>\n",
       "      <td>106</td>\n",
       "      <td>0</td>\n",
       "      <td>378.047616</td>\n",
       "    </tr>\n",
       "    <tr>\n",
       "      <th>1890311</th>\n",
       "      <td>500000002152261401</td>\n",
       "      <td>2</td>\n",
       "      <td>2021-09-27 17:04:57</td>\n",
       "      <td>5411</td>\n",
       "      <td>479.86</td>\n",
       "      <td>NaN</td>\n",
       "      <td>680</td>\n",
       "      <td>780</td>\n",
       "      <td>0</td>\n",
       "      <td>879.004551</td>\n",
       "    </tr>\n",
       "    <tr>\n",
       "      <th>2933426</th>\n",
       "      <td>500000002152261401</td>\n",
       "      <td>2</td>\n",
       "      <td>2021-09-28 16:16:11</td>\n",
       "      <td>5411</td>\n",
       "      <td>698.92</td>\n",
       "      <td>NaN</td>\n",
       "      <td>908</td>\n",
       "      <td>565</td>\n",
       "      <td>0</td>\n",
       "      <td>912.386979</td>\n",
       "    </tr>\n",
       "    <tr>\n",
       "      <th>2956685</th>\n",
       "      <td>500000002152261401</td>\n",
       "      <td>2</td>\n",
       "      <td>2021-08-22 17:14:36</td>\n",
       "      <td>5411</td>\n",
       "      <td>471.84</td>\n",
       "      <td>NaN</td>\n",
       "      <td>9</td>\n",
       "      <td>388</td>\n",
       "      <td>0</td>\n",
       "      <td>309.741828</td>\n",
       "    </tr>\n",
       "  </tbody>\n",
       "</table>\n",
       "</div>"
      ],
      "text/plain": [
       "                         ID  PROD_TYPE          TRANS_DTTM  MCC_CODE  \\\n",
       "417140   500000002152261401          2 2021-09-29 13:59:03      5411   \n",
       "524349   500000002152261401          2 2021-08-21 06:38:06      5411   \n",
       "1890311  500000002152261401          2 2021-09-27 17:04:57      5411   \n",
       "2933426  500000002152261401          2 2021-09-28 16:16:11      5411   \n",
       "2956685  500000002152261401          2 2021-08-22 17:14:36      5411   \n",
       "\n",
       "         SUM_TRANS                                      LOCATION_NAME  \\\n",
       "417140      651.82  MONETKA\\11 YUNOSTI STR\\MEZHDURECHENS\\652877   ...   \n",
       "524349      714.64                                                NaN   \n",
       "1890311     479.86                                                NaN   \n",
       "2933426     698.92                                                NaN   \n",
       "2956685     471.84                                                NaN   \n",
       "\n",
       "         coordinates_x  coordinates_y  distance  euclidean_distance  \n",
       "417140             748             99         0          625.000800  \n",
       "524349             501            106         0          378.047616  \n",
       "1890311            680            780         0          879.004551  \n",
       "2933426            908            565         0          912.386979  \n",
       "2956685              9            388         0          309.741828  "
      ]
     },
     "execution_count": 35,
     "metadata": {},
     "output_type": "execute_result"
    }
   ],
   "source": [
    "#отфильтрованные рекоммендации, выдаваемые клиенту\n",
    "get_nearest_mcc(test_1, 500000002152261401, user_predicts)"
   ]
  },
  {
   "cell_type": "markdown",
   "id": "8aacde82",
   "metadata": {},
   "source": [
    "# Определение категории клиентов"
   ]
  },
  {
   "cell_type": "code",
   "execution_count": 36,
   "id": "0c92aecc",
   "metadata": {},
   "outputs": [],
   "source": [
    "def gen_category(row):\n",
    "    if row['INCOME_MAIN_AMT'] < 30000:\n",
    "        return '<30000'\n",
    "    elif row['INCOME_MAIN_AMT'] < 50000:\n",
    "        return '<50000'\n",
    "    elif row['INCOME_MAIN_AMT'] < 80000:\n",
    "        return '<80000'\n",
    "    elif row['INCOME_MAIN_AMT'] < 120000:\n",
    "        return '<120000'\n",
    "    elif row['INCOME_MAIN_AMT'] < 180000:\n",
    "        return '<180000'\n",
    "    elif row['INCOME_MAIN_AMT'] < 270000:\n",
    "        return '<270000'\n",
    "    elif row['INCOME_MAIN_AMT'] < 390000:\n",
    "        return '<390000'\n",
    "    elif row['INCOME_MAIN_AMT'] < 630000:\n",
    "        return '<630000'\n",
    "    else:\n",
    "        return '>=630000'"
   ]
  },
  {
   "cell_type": "code",
   "execution_count": 37,
   "id": "3d3d6449",
   "metadata": {},
   "outputs": [],
   "source": [
    "train_2['category'] = train_2.apply(gen_category, axis=1)\n",
    "test_2['category'] = test_2.apply(gen_category, axis=1)"
   ]
  },
  {
   "cell_type": "markdown",
   "id": "026e76a8",
   "metadata": {},
   "source": [
    "# Определение сходства клиентов"
   ]
  },
  {
   "cell_type": "code",
   "execution_count": 38,
   "id": "fc7bd532",
   "metadata": {},
   "outputs": [],
   "source": [
    "aggregated_by_user_mcc = train_1[train_1['ID'].isin(users[:10])].pivot_table(index='ID', columns='MCC_CODE', values='SUM_TRANS', aggfunc='count')\n",
    "corr_matrix = aggregated_by_user_mcc.T.corr()"
   ]
  },
  {
   "cell_type": "markdown",
   "id": "fc40d6d7",
   "metadata": {},
   "source": [
    "На основе матрицы сходства можно искать максимлаьно похожих юзеров (скажем, где коэфициент корреляции Пирсона >.9). Получать множества товаров всех похожих юзеров и искать между ними разность множеств. Разность множеств дополнительно фильтруем по категориям платёжеспособности активного клиента и выдаём, как предложение по расширению корзины"
   ]
  },
  {
   "cell_type": "code",
   "execution_count": 40,
   "id": "79be6c48",
   "metadata": {},
   "outputs": [
    {
     "data": {
      "text/html": [
       "<div>\n",
       "<style scoped>\n",
       "    .dataframe tbody tr th:only-of-type {\n",
       "        vertical-align: middle;\n",
       "    }\n",
       "\n",
       "    .dataframe tbody tr th {\n",
       "        vertical-align: top;\n",
       "    }\n",
       "\n",
       "    .dataframe thead th {\n",
       "        text-align: right;\n",
       "    }\n",
       "</style>\n",
       "<table border=\"1\" class=\"dataframe\">\n",
       "  <thead>\n",
       "    <tr style=\"text-align: right;\">\n",
       "      <th>ID</th>\n",
       "      <th>500000000004725733</th>\n",
       "      <th>500000000050139448</th>\n",
       "      <th>500000000158893444</th>\n",
       "      <th>500000000402535207</th>\n",
       "      <th>500000000608267511</th>\n",
       "      <th>500000000634517647</th>\n",
       "      <th>500000001089710588</th>\n",
       "      <th>500000001271933224</th>\n",
       "      <th>500000001639102687</th>\n",
       "      <th>500000003407797504</th>\n",
       "    </tr>\n",
       "    <tr>\n",
       "      <th>ID</th>\n",
       "      <th></th>\n",
       "      <th></th>\n",
       "      <th></th>\n",
       "      <th></th>\n",
       "      <th></th>\n",
       "      <th></th>\n",
       "      <th></th>\n",
       "      <th></th>\n",
       "      <th></th>\n",
       "      <th></th>\n",
       "    </tr>\n",
       "  </thead>\n",
       "  <tbody>\n",
       "    <tr>\n",
       "      <th>500000000004725733</th>\n",
       "      <td>True</td>\n",
       "      <td>False</td>\n",
       "      <td>False</td>\n",
       "      <td>False</td>\n",
       "      <td>False</td>\n",
       "      <td>False</td>\n",
       "      <td>False</td>\n",
       "      <td>False</td>\n",
       "      <td>False</td>\n",
       "      <td>False</td>\n",
       "    </tr>\n",
       "    <tr>\n",
       "      <th>500000000050139448</th>\n",
       "      <td>False</td>\n",
       "      <td>True</td>\n",
       "      <td>False</td>\n",
       "      <td>False</td>\n",
       "      <td>False</td>\n",
       "      <td>False</td>\n",
       "      <td>False</td>\n",
       "      <td>False</td>\n",
       "      <td>False</td>\n",
       "      <td>False</td>\n",
       "    </tr>\n",
       "    <tr>\n",
       "      <th>500000000158893444</th>\n",
       "      <td>False</td>\n",
       "      <td>False</td>\n",
       "      <td>True</td>\n",
       "      <td>False</td>\n",
       "      <td>False</td>\n",
       "      <td>False</td>\n",
       "      <td>False</td>\n",
       "      <td>False</td>\n",
       "      <td>False</td>\n",
       "      <td>False</td>\n",
       "    </tr>\n",
       "    <tr>\n",
       "      <th>500000000402535207</th>\n",
       "      <td>False</td>\n",
       "      <td>False</td>\n",
       "      <td>False</td>\n",
       "      <td>True</td>\n",
       "      <td>False</td>\n",
       "      <td>True</td>\n",
       "      <td>False</td>\n",
       "      <td>False</td>\n",
       "      <td>False</td>\n",
       "      <td>False</td>\n",
       "    </tr>\n",
       "    <tr>\n",
       "      <th>500000000608267511</th>\n",
       "      <td>False</td>\n",
       "      <td>False</td>\n",
       "      <td>False</td>\n",
       "      <td>False</td>\n",
       "      <td>True</td>\n",
       "      <td>False</td>\n",
       "      <td>False</td>\n",
       "      <td>False</td>\n",
       "      <td>False</td>\n",
       "      <td>False</td>\n",
       "    </tr>\n",
       "    <tr>\n",
       "      <th>500000000634517647</th>\n",
       "      <td>False</td>\n",
       "      <td>False</td>\n",
       "      <td>False</td>\n",
       "      <td>True</td>\n",
       "      <td>False</td>\n",
       "      <td>True</td>\n",
       "      <td>False</td>\n",
       "      <td>False</td>\n",
       "      <td>False</td>\n",
       "      <td>False</td>\n",
       "    </tr>\n",
       "    <tr>\n",
       "      <th>500000001089710588</th>\n",
       "      <td>False</td>\n",
       "      <td>False</td>\n",
       "      <td>False</td>\n",
       "      <td>False</td>\n",
       "      <td>False</td>\n",
       "      <td>False</td>\n",
       "      <td>True</td>\n",
       "      <td>False</td>\n",
       "      <td>False</td>\n",
       "      <td>False</td>\n",
       "    </tr>\n",
       "    <tr>\n",
       "      <th>500000001271933224</th>\n",
       "      <td>False</td>\n",
       "      <td>False</td>\n",
       "      <td>False</td>\n",
       "      <td>False</td>\n",
       "      <td>False</td>\n",
       "      <td>False</td>\n",
       "      <td>False</td>\n",
       "      <td>True</td>\n",
       "      <td>False</td>\n",
       "      <td>False</td>\n",
       "    </tr>\n",
       "    <tr>\n",
       "      <th>500000001639102687</th>\n",
       "      <td>False</td>\n",
       "      <td>False</td>\n",
       "      <td>False</td>\n",
       "      <td>False</td>\n",
       "      <td>False</td>\n",
       "      <td>False</td>\n",
       "      <td>False</td>\n",
       "      <td>False</td>\n",
       "      <td>True</td>\n",
       "      <td>False</td>\n",
       "    </tr>\n",
       "    <tr>\n",
       "      <th>500000003407797504</th>\n",
       "      <td>False</td>\n",
       "      <td>False</td>\n",
       "      <td>False</td>\n",
       "      <td>False</td>\n",
       "      <td>False</td>\n",
       "      <td>False</td>\n",
       "      <td>False</td>\n",
       "      <td>False</td>\n",
       "      <td>False</td>\n",
       "      <td>True</td>\n",
       "    </tr>\n",
       "  </tbody>\n",
       "</table>\n",
       "</div>"
      ],
      "text/plain": [
       "ID                  500000000004725733  500000000050139448  \\\n",
       "ID                                                           \n",
       "500000000004725733                True               False   \n",
       "500000000050139448               False                True   \n",
       "500000000158893444               False               False   \n",
       "500000000402535207               False               False   \n",
       "500000000608267511               False               False   \n",
       "500000000634517647               False               False   \n",
       "500000001089710588               False               False   \n",
       "500000001271933224               False               False   \n",
       "500000001639102687               False               False   \n",
       "500000003407797504               False               False   \n",
       "\n",
       "ID                  500000000158893444  500000000402535207  \\\n",
       "ID                                                           \n",
       "500000000004725733               False               False   \n",
       "500000000050139448               False               False   \n",
       "500000000158893444                True               False   \n",
       "500000000402535207               False                True   \n",
       "500000000608267511               False               False   \n",
       "500000000634517647               False                True   \n",
       "500000001089710588               False               False   \n",
       "500000001271933224               False               False   \n",
       "500000001639102687               False               False   \n",
       "500000003407797504               False               False   \n",
       "\n",
       "ID                  500000000608267511  500000000634517647  \\\n",
       "ID                                                           \n",
       "500000000004725733               False               False   \n",
       "500000000050139448               False               False   \n",
       "500000000158893444               False               False   \n",
       "500000000402535207               False                True   \n",
       "500000000608267511                True               False   \n",
       "500000000634517647               False                True   \n",
       "500000001089710588               False               False   \n",
       "500000001271933224               False               False   \n",
       "500000001639102687               False               False   \n",
       "500000003407797504               False               False   \n",
       "\n",
       "ID                  500000001089710588  500000001271933224  \\\n",
       "ID                                                           \n",
       "500000000004725733               False               False   \n",
       "500000000050139448               False               False   \n",
       "500000000158893444               False               False   \n",
       "500000000402535207               False               False   \n",
       "500000000608267511               False               False   \n",
       "500000000634517647               False               False   \n",
       "500000001089710588                True               False   \n",
       "500000001271933224               False                True   \n",
       "500000001639102687               False               False   \n",
       "500000003407797504               False               False   \n",
       "\n",
       "ID                  500000001639102687  500000003407797504  \n",
       "ID                                                          \n",
       "500000000004725733               False               False  \n",
       "500000000050139448               False               False  \n",
       "500000000158893444               False               False  \n",
       "500000000402535207               False               False  \n",
       "500000000608267511               False               False  \n",
       "500000000634517647               False               False  \n",
       "500000001089710588               False               False  \n",
       "500000001271933224               False               False  \n",
       "500000001639102687                True               False  \n",
       "500000003407797504               False                True  "
      ]
     },
     "execution_count": 40,
     "metadata": {},
     "output_type": "execute_result"
    }
   ],
   "source": [
    "corr_matrix > .99"
   ]
  },
  {
   "cell_type": "code",
   "execution_count": 51,
   "id": "d122eb8e",
   "metadata": {},
   "outputs": [
    {
     "data": {
      "text/plain": [
       "ID\n",
       "500000000402535207    0.991731\n",
       "500000000608267511    0.981278\n",
       "500000000634517647    1.000000\n",
       "Name: 500000000634517647, dtype: float64"
      ]
     },
     "execution_count": 51,
     "metadata": {},
     "output_type": "execute_result"
    }
   ],
   "source": [
    "corr_matrix[500000000634517647][corr_matrix[500000000634517647] > .98]"
   ]
  },
  {
   "cell_type": "code",
   "execution_count": null,
   "id": "8f835ba5",
   "metadata": {},
   "outputs": [],
   "source": []
  }
 ],
 "metadata": {
  "kernelspec": {
   "display_name": "Python 3 (ipykernel)",
   "language": "python",
   "name": "python3"
  },
  "language_info": {
   "codemirror_mode": {
    "name": "ipython",
    "version": 3
   },
   "file_extension": ".py",
   "mimetype": "text/x-python",
   "name": "python",
   "nbconvert_exporter": "python",
   "pygments_lexer": "ipython3",
   "version": "3.9.6"
  }
 },
 "nbformat": 4,
 "nbformat_minor": 5
}
